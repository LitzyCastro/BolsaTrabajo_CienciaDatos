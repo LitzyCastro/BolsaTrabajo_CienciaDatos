{
 "cells": [
  {
   "cell_type": "markdown",
   "metadata": {},
   "source": [
    "## Librerias a Utilizar\n",
    "Seccion de libreria que se utilizaran en el proceso de extraccion"
   ]
  },
  {
   "cell_type": "code",
   "execution_count": 234,
   "metadata": {},
   "outputs": [],
   "source": [
    "# Tratamiento de datos\n",
    "# ==============================================================================\n",
    "import numpy as np\n",
    "import pandas as pd\n",
    "from tabulate import tabulate\n",
    "import re\n",
    "import time\n",
    "from datetime import date\n",
    "\n",
    "\n",
    "# Manejo Web, paginas y webScrapping\n",
    "# ==============================================================================\n",
    "import urllib.request\n",
    "from selenium import webdriver\n",
    "from selenium.webdriver.common.keys import Keys\n",
    "from selenium.webdriver.common.by import By\n",
    "from selenium.webdriver.support.ui import WebDriverWait\n",
    "from selenium.webdriver.support import expected_conditions as EC\n",
    "from selenium import webdriver\n",
    "from bs4 import BeautifulSoup as bs\n",
    "\n",
    "\n",
    "# Gráficos\n",
    "# ==============================================================================\n",
    "from matplotlib import pyplot as plt\n",
    "\n",
    "\n",
    "# Configuración warnings\n",
    "# ==============================================================================\\n\",\n",
    "import warnings\n",
    "warnings.filterwarnings('ignore')"
   ]
  },
  {
   "cell_type": "markdown",
   "metadata": {},
   "source": [
    "## Funciones "
   ]
  },
  {
   "cell_type": "code",
   "execution_count": 235,
   "metadata": {},
   "outputs": [],
   "source": [
    "def ExtraerLink(linkPage,patron):\n",
    "    lista = []\n",
    "    for tag in linkPage:\n",
    "        valor = tag.get('href')\n",
    "        if(str(valor).find(patron) != -1):\n",
    "            lista.append(valor)\n",
    "    df = pd.DataFrame (lista, columns = ['url'])\n",
    "    df = df.drop_duplicates()\n",
    "    return df\n",
    "def leerUrl(pagina):    \n",
    "    soup = bs(urllib.request.urlopen(pagina).read().decode())\n",
    "    #print(str(soup) )\n",
    "    time.sleep(3)\n",
    "  \n",
    "    return  soup"
   ]
  },
  {
   "cell_type": "markdown",
   "metadata": {},
   "source": [
    "## Manejo de Datos y sitios a considerar\n"
   ]
  },
  {
   "cell_type": "code",
   "execution_count": 236,
   "metadata": {},
   "outputs": [],
   "source": [
    "# Instantiate the webdriver with the executable location of MS Edge\n",
    "# Provide the full location of the path to recognise correctly\n",
    "PATH = 'App\\msedgedriver.exe'\n",
    "edgeBrowser = webdriver.Edge(PATH)\n",
    "\n",
    "# This is the step for minimize browser window\n",
    "edgeBrowser.minimize_window()"
   ]
  },
  {
   "cell_type": "code",
   "execution_count": 237,
   "metadata": {},
   "outputs": [],
   "source": [
    "# Browser will get navigated to the given URL\n",
    "edgeBrowser.get('https://www.linkedin.com/jobs/search/?keywords=Data%20Scientist&location=Chile&locationId=&geoId=104621616&f_TPR=r86400&position=1&pageNum=0')\n",
    "\n",
    "time.sleep(3)\n",
    "\n",
    "# This is the step for minimize browser window\n",
    "edgeBrowser.minimize_window()"
   ]
  },
  {
   "cell_type": "markdown",
   "metadata": {},
   "source": [
    "## Rescata las paginas a Scrapear\n"
   ]
  },
  {
   "cell_type": "code",
   "execution_count": 238,
   "metadata": {},
   "outputs": [],
   "source": [
    "linkedin_soup = bs(edgeBrowser.page_source.encode(\"utf-8\"), \"html\")\n",
    "#linkedin_soup.prettify()"
   ]
  },
  {
   "cell_type": "markdown",
   "metadata": {},
   "source": [
    "## busqueda de pagina en los campos < A >\n",
    "Se busca con el patron de link a paginas con la oferta."
   ]
  },
  {
   "cell_type": "code",
   "execution_count": 239,
   "metadata": {},
   "outputs": [
    {
     "name": "stdout",
     "output_type": "stream",
     "text": [
      "<class 'pandas.core.frame.DataFrame'>\n",
      "Int64Index: 27 entries, 0 to 26\n",
      "Data columns (total 1 columns):\n",
      " #   Column  Non-Null Count  Dtype \n",
      "---  ------  --------------  ----- \n",
      " 0   url     27 non-null     object\n",
      "dtypes: object(1)\n",
      "memory usage: 432.0+ bytes\n"
     ]
    }
   ],
   "source": [
    "patron = '/jobs/view/'\n",
    "df = ExtraerLink(linkedin_soup('a'),patron)\n",
    "df.info()"
   ]
  },
  {
   "cell_type": "code",
   "execution_count": 240,
   "metadata": {},
   "outputs": [
    {
     "data": {
      "text/html": [
       "<div>\n",
       "<style scoped>\n",
       "    .dataframe tbody tr th:only-of-type {\n",
       "        vertical-align: middle;\n",
       "    }\n",
       "\n",
       "    .dataframe tbody tr th {\n",
       "        vertical-align: top;\n",
       "    }\n",
       "\n",
       "    .dataframe thead th {\n",
       "        text-align: right;\n",
       "    }\n",
       "</style>\n",
       "<table border=\"1\" class=\"dataframe\">\n",
       "  <thead>\n",
       "    <tr style=\"text-align: right;\">\n",
       "      <th></th>\n",
       "      <th>url</th>\n",
       "    </tr>\n",
       "  </thead>\n",
       "  <tbody>\n",
       "    <tr>\n",
       "      <th>0</th>\n",
       "      <td>https://cl.linkedin.com/jobs/view/data-scienti...</td>\n",
       "    </tr>\n",
       "    <tr>\n",
       "      <th>1</th>\n",
       "      <td>https://cl.linkedin.com/jobs/view/data-scienti...</td>\n",
       "    </tr>\n",
       "    <tr>\n",
       "      <th>2</th>\n",
       "      <td>https://cl.linkedin.com/jobs/view/senior-data-...</td>\n",
       "    </tr>\n",
       "    <tr>\n",
       "      <th>3</th>\n",
       "      <td>https://cl.linkedin.com/jobs/view/programador-...</td>\n",
       "    </tr>\n",
       "    <tr>\n",
       "      <th>4</th>\n",
       "      <td>https://cl.linkedin.com/jobs/view/react-softwa...</td>\n",
       "    </tr>\n",
       "  </tbody>\n",
       "</table>\n",
       "</div>"
      ],
      "text/plain": [
       "                                                 url\n",
       "0  https://cl.linkedin.com/jobs/view/data-scienti...\n",
       "1  https://cl.linkedin.com/jobs/view/data-scienti...\n",
       "2  https://cl.linkedin.com/jobs/view/senior-data-...\n",
       "3  https://cl.linkedin.com/jobs/view/programador-...\n",
       "4  https://cl.linkedin.com/jobs/view/react-softwa..."
      ]
     },
     "execution_count": 240,
     "metadata": {},
     "output_type": "execute_result"
    }
   ],
   "source": [
    "df.head()"
   ]
  },
  {
   "cell_type": "code",
   "execution_count": 241,
   "metadata": {},
   "outputs": [],
   "source": [
    "columns = [\"url\", \"contenido\"]\n",
    "dffinal = pd.DataFrame(columns=columns)\n",
    "\n",
    "for i in range(len(df)-1):\n",
    "    link = str(df.iloc[i]['url'])\n",
    "    #print(link)\n",
    "    linkedin_soup1 = leerUrl(link.split('?')[0]) \n",
    "    #print(linkedin_soup1)\n",
    "    if str(linkedin_soup1) == \"Not Found\":\n",
    "        break\n",
    " \n",
    "    parametro = 'show-more-less-html__markup'\n",
    "    links_divs = linkedin_soup1.findAll(\"div\", {\"class\": parametro})\n",
    "    links_divs = str(links_divs)\n",
    "    dffinal = dffinal.append(\n",
    "                {\n",
    "                    \"url\": link,\n",
    "                    \"contenido\": links_divs,\n",
    "                },\n",
    "                ignore_index=True,\n",
    "            )"
   ]
  },
  {
   "cell_type": "code",
   "execution_count": 257,
   "metadata": {},
   "outputs": [],
   "source": [
    "# Traza\n",
    "#with pd.option_context('display.max_colwidth', None):\n",
    "#    display(dffinal)\n",
    "\n",
    "dffinal.to_parquet(\"output/df_\"+date.today().strftime(\"%d%m%Y\")+'.parquet')\n"
   ]
  }
 ],
 "metadata": {
  "kernelspec": {
   "display_name": "Python 3.9.12 ('base')",
   "language": "python",
   "name": "python3"
  },
  "language_info": {
   "codemirror_mode": {
    "name": "ipython",
    "version": 3
   },
   "file_extension": ".py",
   "mimetype": "text/x-python",
   "name": "python",
   "nbconvert_exporter": "python",
   "pygments_lexer": "ipython3",
   "version": "3.9.12"
  },
  "orig_nbformat": 4,
  "vscode": {
   "interpreter": {
    "hash": "ad2bdc8ecc057115af97d19610ffacc2b4e99fae6737bb82f5d7fb13d2f2c186"
   }
  }
 },
 "nbformat": 4,
 "nbformat_minor": 2
}
