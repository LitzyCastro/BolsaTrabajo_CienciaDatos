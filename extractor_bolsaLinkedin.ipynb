{
 "cells": [
  {
   "cell_type": "markdown",
   "metadata": {},
   "source": [
    "##  link base\n",
    "\n",
    "https://www.linkedin.com/jobs/search/?currentJobId=3214491146&keywords=data%20scientist&originalSubdomain=cl\n",
    "\n",
    "Dominio que se esta screapeando"
   ]
  },
  {
   "cell_type": "markdown",
   "metadata": {},
   "source": [
    "##  Librerias a utilizar\n",
    "\n"
   ]
  },
  {
   "cell_type": "code",
   "execution_count": null,
   "metadata": {},
   "outputs": [],
   "source": [
    "!pipreqs\n"
   ]
  },
  {
   "cell_type": "code",
   "execution_count": null,
   "metadata": {},
   "outputs": [],
   "source": [
    "#pip install selenium"
   ]
  },
  {
   "cell_type": "code",
   "execution_count": null,
   "metadata": {},
   "outputs": [],
   "source": [
    "# Tratamiento de datos\n",
    "# ==============================================================================\n",
    "import numpy as np\n",
    "import pandas as pd\n",
    "from tabulate import tabulate\n",
    "import re\n",
    "import time\n",
    "\n",
    "\n",
    "# Manejo Web, paginas y webScrapping\n",
    "# ==============================================================================\n",
    "import urllib.request\n",
    "from selenium import webdriver\n",
    "from selenium.webdriver.common.keys import Keys\n",
    "from selenium.webdriver.common.by import By\n",
    "from selenium.webdriver.support.ui import WebDriverWait\n",
    "from selenium.webdriver.support import expected_conditions as EC\n",
    "from selenium import webdriver\n",
    "from bs4 import BeautifulSoup as bs\n",
    "\n",
    "\n",
    "# Gráficos\n",
    "# ==============================================================================\n",
    "from matplotlib import pyplot as plt\n",
    "\n",
    "\n",
    "# Configuración warnings\n",
    "# ==============================================================================\\n\",\n",
    "import warnings\n",
    "warnings.filterwarnings('ignore')"
   ]
  },
  {
   "cell_type": "markdown",
   "metadata": {},
   "source": [
    "##  Funciones"
   ]
  },
  {
   "cell_type": "code",
   "execution_count": null,
   "metadata": {},
   "outputs": [],
   "source": [
    "def LoginLinkedin(usuario, clave,edgeBrowser):\n",
    "    # locate email form by_class_name\n",
    "    username = edgeBrowser.find_element(By.ID,value='session_key')\n",
    "    # send_keys() to simulate key strokes\n",
    "    username.send_keys(usuario)\n",
    "    # locate password form by_class_name\n",
    "    password = edgeBrowser.find_element(By.ID,value='session_password')\n",
    "    # send_keys() to simulate key strokes\n",
    "    password.send_keys(clave)\n",
    "    # locate submit button by_class_name\n",
    "    log_in_button = edgeBrowser.find_element(By.CLASS_NAME, 'sign-in-form__submit-button')\n",
    "    # .click() to mimic button click\n",
    "    log_in_button.click()\n",
    "\n",
    "    \n",
    "def leerUrl(pagina):    \n",
    "    soup = bs(urllib.request.urlopen(pagina).read().decode())\n",
    "    return  soup\n",
    "    \n",
    "def ExtraerLink(linkPage,patron):\n",
    "    lista = []\n",
    "    for tag in linkPage:\n",
    "        valor = tag.get('href')\n",
    "        if(str(valor).find(patron) != -1):\n",
    "            lista.append(valor)\n",
    "    df = pd.DataFrame (lista, columns = ['url'])\n",
    "    df = df.drop_duplicates()\n",
    "    return df"
   ]
  },
  {
   "cell_type": "markdown",
   "metadata": {},
   "source": [
    "## Manejo de Datos y sitios a considerar\n"
   ]
  },
  {
   "cell_type": "code",
   "execution_count": null,
   "metadata": {},
   "outputs": [],
   "source": [
    "# Instantiate the webdriver with the executable location of MS Edge\n",
    "# Provide the full location of the path to recognise correctly\n",
    "PATH = 'App\\msedgedriver.exe'\n",
    "edgeBrowser = webdriver.Edge(PATH)\n",
    "\n",
    "# This is the step for maximizing browser window\n",
    "edgeBrowser.maximize_window()\n"
   ]
  },
  {
   "cell_type": "code",
   "execution_count": null,
   "metadata": {},
   "outputs": [],
   "source": [
    "# Browser will get navigated to the given URL\n",
    "edgeBrowser.get('https://www.linkedin.com/jobs/search/?keywords=Data%20Scientist&location=Chile&locationId=&geoId=104621616&f_TPR=r86400&position=1&pageNum=0')\n",
    "\n",
    "time.sleep(3)"
   ]
  },
  {
   "cell_type": "code",
   "execution_count": null,
   "metadata": {},
   "outputs": [],
   "source": [
    "linkedin_soup = bs(edgeBrowser.page_source.encode(\"utf-8\"), \"html\")\n",
    "linkedin_soup.prettify()\n"
   ]
  },
  {
   "cell_type": "code",
   "execution_count": null,
   "metadata": {},
   "outputs": [],
   "source": [
    "patron = '/jobs/view/'\n",
    "df = ExtraerLink(linkedin_soup('a'),patron)\n",
    "df.info()"
   ]
  },
  {
   "cell_type": "code",
   "execution_count": null,
   "metadata": {},
   "outputs": [],
   "source": [
    "df.count()"
   ]
  },
  {
   "cell_type": "code",
   "execution_count": null,
   "metadata": {},
   "outputs": [],
   "source": [
    "df.tail()"
   ]
  },
  {
   "cell_type": "code",
   "execution_count": null,
   "metadata": {},
   "outputs": [],
   "source": [
    "columns = [\"url\", \"contenido\"]\n",
    "dffinal = pd.DataFrame(columns=columns)\n",
    "\n",
    "for i in range(1):\n",
    "    link = str(df.iloc[i]['url'])\n",
    "    print(link.split('?')[0])\n",
    "\n",
    "    linkedin_soup1 = leerUrl(link.split('?')[0])\n",
    "    linkedin_soup1.prettify()        \n",
    "    dffinal = dffinal.append(\n",
    "                {\n",
    "                    \"url\": link,\n",
    "                    \"author\": author,\n",
    "                },\n",
    "                ignore_index=True,\n",
    "            )\n"
   ]
  },
  {
   "cell_type": "code",
   "execution_count": null,
   "metadata": {},
   "outputs": [],
   "source": [
    "post_links = []\n",
    "patron = '/jobs/view/'\n",
    "lista = linkedin_soup('a')\n",
    "for tag in lista:\n",
    "    valor = tag.get('href')\n",
    "    #print(valor)\n",
    "    if(str(valor).find(patron) != -1):\n",
    "        post_links.append(valor) \n",
    "        print(valor)  "
   ]
  },
  {
   "cell_type": "code",
   "execution_count": null,
   "metadata": {},
   "outputs": [],
   "source": [
    "post_links"
   ]
  },
  {
   "cell_type": "code",
   "execution_count": null,
   "metadata": {},
   "outputs": [],
   "source": [
    "<a \n",
    "class=\"base-card__full-link absolute top-0 right-0 bottom-0 left-0 p-0 z-[2]\" \n",
    "href=\"https://cl.linkedin.com/jobs/view/data-scientist-junior-at-equifax-3235371363?refId=EmVB32%2Fwxufvbpu2hnxQXA%3D%3D&amp;trackingId=OF9KbPC6%2Bx8UkkovJKW2mg%3D%3D&amp;position=1&amp;pageNum=0&amp;trk=public_jobs_jserp-result_search-card\" \n",
    "data-tracking-control-name=\"public_jobs_jserp-result_search-card\" \n",
    "data-tracking-client-ingraph=\"\" \n",
    "data-tracking-will-navigate=\"\">\n",
    "<span class=\"sr-only\">           \n",
    "        Data Scientist Junior\n",
    "          </span>\n",
    "</a>\n"
   ]
  },
  {
   "cell_type": "markdown",
   "metadata": {},
   "source": [
    "<button class=\"filter-button pill flex items-center !min-h-0\n",
    "         filter-button--selected pill-checked filter__dropdown-to-modal-trigger\" aria-label=\"Filtro «Fecha de publicación». Se ha aplicado el filtro «Semana pasada». Al hacer clic en este botón, se muestran todas las opciones del filtro «Fecha de publicación».\" data-tracking-control-name=\"public_jobs_f_TPR\" aria-expanded=\"false\" type=\"button\">\n",
    "        \n",
    "        Semana pasada\n",
    "      <icon class=\"filter-button__icon h-3 w-2 lazy-loaded\" aria-hidden=\"true\"><svg xmlns=\"http://www.w3.org/2000/svg\" xmlns:xlink=\"http://www.w3.org/1999/xlink\" viewBox=\"0 0 24 24\" width=\"24px\" height=\"24px\" class=\"artdeco-icon lazy-loaded\" focusable=\"false\">\n",
    "  <path d=\"M5,9h14l-6.2,6.7C12.6,15.9,12.3,16,12,16c-0.3,0-0.6-0.1-0.8-0.3L5,9z\" fill=\"currentColor\"></path>\n",
    "</svg></icon>\n",
    "    </button>"
   ]
  },
  {
   "cell_type": "code",
   "execution_count": null,
   "metadata": {},
   "outputs": [],
   "source": [
    "# Creating lists\n",
    "post_links = []\n",
    "post_texts = []\n",
    "post_names = []"
   ]
  },
  {
   "cell_type": "code",
   "execution_count": null,
   "metadata": {},
   "outputs": [],
   "source": [
    "edgeBrowser.get('https://www.linkedin.com/jobs/search/?currentJobId=3214491146&keywords=data%20scientist&originalSubdomain=cl')"
   ]
  },
  {
   "cell_type": "code",
   "execution_count": null,
   "metadata": {},
   "outputs": [],
   "source": [
    "company_page = edgeBrowser.page_source   \n",
    "print(company_page)\n",
    "\n"
   ]
  },
  {
   "cell_type": "code",
   "execution_count": null,
   "metadata": {},
   "outputs": [],
   "source": [
    "linkedin_soup = bs(company_page.encode(\"utf-8\"), \"html\")\n",
    "linkedin_soup.prettify()\n"
   ]
  },
  {
   "cell_type": "code",
   "execution_count": null,
   "metadata": {},
   "outputs": [],
   "source": [
    "linksopen = linkedin_soup('a')"
   ]
  },
  {
   "cell_type": "code",
   "execution_count": null,
   "metadata": {},
   "outputs": [],
   "source": [
    "df = ExtraerLink(linksopen)\n",
    "df"
   ]
  },
  {
   "cell_type": "code",
   "execution_count": null,
   "metadata": {},
   "outputs": [],
   "source": [
    "df.head(1)"
   ]
  },
  {
   "cell_type": "code",
   "execution_count": null,
   "metadata": {},
   "outputs": [],
   "source": [
    "containers = linkedin_soup.findAll(\"div\",{\"class\":\"occludable-update ember-view\"})\n",
    "print(containers)"
   ]
  },
  {
   "cell_type": "code",
   "execution_count": null,
   "metadata": {},
   "outputs": [],
   "source": [
    "\n",
    "for container in containers:\n",
    "    text_box = container.find(\"div\",{\"class\":\"feed-shared-update-v2__description-wrapper ember-view\"})\n",
    "    text = text_box.find(\"span\",{\"dir\":\"ltr\"})\n",
    "    post_texts.append(text.text.strip())\n",
    "post_texts"
   ]
  },
  {
   "cell_type": "code",
   "execution_count": null,
   "metadata": {},
   "outputs": [],
   "source": [
    "site = 'https://cl.linkedin.com/jobs/data-scientist-empleos'\n",
    "pag1 = leerUrl(site)\n",
    "pag1"
   ]
  }
 ],
 "metadata": {
  "kernelspec": {
   "display_name": "Python 3.9.12 ('base')",
   "language": "python",
   "name": "python3"
  },
  "language_info": {
   "codemirror_mode": {
    "name": "ipython",
    "version": 3
   },
   "file_extension": ".py",
   "mimetype": "text/x-python",
   "name": "python",
   "nbconvert_exporter": "python",
   "pygments_lexer": "ipython3",
   "version": "3.9.12"
  },
  "orig_nbformat": 4,
  "vscode": {
   "interpreter": {
    "hash": "ad2bdc8ecc057115af97d19610ffacc2b4e99fae6737bb82f5d7fb13d2f2c186"
   }
  }
 },
 "nbformat": 4,
 "nbformat_minor": 2
}
